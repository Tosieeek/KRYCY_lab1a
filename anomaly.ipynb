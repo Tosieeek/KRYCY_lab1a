{
 "cells": [
  {
   "cell_type": "markdown",
   "source": [
    "# KRYCY lab 1c\n",
    "## Wykrywanie anomalii\n"
   ],
   "metadata": {
    "collapsed": false,
    "pycharm": {
     "name": "#%% md\n"
    }
   }
  },
  {
   "cell_type": "code",
   "execution_count": 9,
   "metadata": {
    "collapsed": true,
    "pycharm": {
     "name": "#%%\n"
    }
   },
   "outputs": [],
   "source": [
    "import pandas as pd\n",
    "from scapy.all import *\n",
    "from scapy.layers.inet import IP, TCP"
   ]
  },
  {
   "cell_type": "markdown",
   "source": [
    "### Wczytanie danych - plik pcap\n",
    "Przechodzimy po wszystkich pakietach:"
   ],
   "metadata": {
    "collapsed": false,
    "pycharm": {
     "name": "#%% md\n"
    }
   }
  },
  {
   "cell_type": "code",
   "execution_count": 10,
   "outputs": [],
   "source": [
    "scapy_cap = rdpcap('test_dir/trick_bot.pcap')\n",
    "packet_tab = []\n",
    "for packet in scapy_cap:\n",
    "    if TCP in packet:\n",
    "        ip_src = \"\"\n",
    "        ip_dst = \"\"\n",
    "        if IP in packet:\n",
    "            ip_src=packet[IP].src\n",
    "            ip_dst=packet[IP].dst\n",
    "\n",
    "        tcp_time=packet[TCP].time\n",
    "        tcp_sport=packet[TCP].sport\n",
    "        tcp_dport=packet[TCP].dport\n",
    "        packet_tab.append([str(tcp_time),tcp_sport,tcp_dport, ip_src, ip_dst])"
   ],
   "metadata": {
    "collapsed": false,
    "pycharm": {
     "name": "#%%\n"
    }
   }
  },
  {
   "cell_type": "markdown",
   "source": [
    "### Preprocessing danych\n",
    "#### Stworzenie DataFrame z pandasa"
   ],
   "metadata": {
    "collapsed": false,
    "pycharm": {
     "name": "#%% md\n"
    }
   }
  },
  {
   "cell_type": "code",
   "execution_count": 11,
   "outputs": [],
   "source": [
    "df = pd.DataFrame(packet_tab, columns=['time','src_port', 'dst_port', 'ip_src', 'ip_dst'])"
   ],
   "metadata": {
    "collapsed": false,
    "pycharm": {
     "name": "#%%\n"
    }
   }
  },
  {
   "cell_type": "markdown",
   "source": [
    "### Mechanizm naliczania metryki\n",
    "#### Zliczenie ruchu na każdym z wystepujących portów"
   ],
   "metadata": {
    "collapsed": false,
    "pycharm": {
     "name": "#%% md\n"
    }
   }
  },
  {
   "cell_type": "code",
   "execution_count": 12,
   "outputs": [
    {
     "data": {
      "text/plain": "      port  amount\n0       80    1598\n1      443     349\n2      445       4\n3      447   12228\n4      448      30\n..     ...     ...\n149  49568      19\n150  49569      23\n151  49570      19\n152  49571      19\n153  49572      19\n\n[154 rows x 2 columns]",
      "text/html": "<div>\n<style scoped>\n    .dataframe tbody tr th:only-of-type {\n        vertical-align: middle;\n    }\n\n    .dataframe tbody tr th {\n        vertical-align: top;\n    }\n\n    .dataframe thead th {\n        text-align: right;\n    }\n</style>\n<table border=\"1\" class=\"dataframe\">\n  <thead>\n    <tr style=\"text-align: right;\">\n      <th></th>\n      <th>port</th>\n      <th>amount</th>\n    </tr>\n  </thead>\n  <tbody>\n    <tr>\n      <th>0</th>\n      <td>80</td>\n      <td>1598</td>\n    </tr>\n    <tr>\n      <th>1</th>\n      <td>443</td>\n      <td>349</td>\n    </tr>\n    <tr>\n      <th>2</th>\n      <td>445</td>\n      <td>4</td>\n    </tr>\n    <tr>\n      <th>3</th>\n      <td>447</td>\n      <td>12228</td>\n    </tr>\n    <tr>\n      <th>4</th>\n      <td>448</td>\n      <td>30</td>\n    </tr>\n    <tr>\n      <th>...</th>\n      <td>...</td>\n      <td>...</td>\n    </tr>\n    <tr>\n      <th>149</th>\n      <td>49568</td>\n      <td>19</td>\n    </tr>\n    <tr>\n      <th>150</th>\n      <td>49569</td>\n      <td>23</td>\n    </tr>\n    <tr>\n      <th>151</th>\n      <td>49570</td>\n      <td>19</td>\n    </tr>\n    <tr>\n      <th>152</th>\n      <td>49571</td>\n      <td>19</td>\n    </tr>\n    <tr>\n      <th>153</th>\n      <td>49572</td>\n      <td>19</td>\n    </tr>\n  </tbody>\n</table>\n<p>154 rows × 2 columns</p>\n</div>"
     },
     "execution_count": 12,
     "metadata": {},
     "output_type": "execute_result"
    }
   ],
   "source": [
    "connections = df.groupby([\"dst_port\"]).size().rename(\"amount\").reset_index()\n",
    "connections.columns = ['port', 'amount']\n",
    "connections\n",
    "connections2 = df.groupby([\"src_port\"]).size().rename(\"amount\").reset_index()\n",
    "connections2.columns = ['port', 'amount']\n",
    "connections2\n",
    "ports_traffic = pd.concat([connections, connections2]).groupby('port').sum().reset_index()\n",
    "ports_traffic"
   ],
   "metadata": {
    "collapsed": false,
    "pycharm": {
     "name": "#%%\n"
    }
   }
  },
  {
   "cell_type": "markdown",
   "source": [
    "### Ustalenie progu detekcji przekroczenia\n",
    "#### Wyfiltrowanie portów z ruchem większym niż 100 pakietów i posortowanie malejąco"
   ],
   "metadata": {
    "collapsed": false,
    "pycharm": {
     "name": "#%% md\n"
    }
   }
  },
  {
   "cell_type": "code",
   "execution_count": 14,
   "outputs": [
    {
     "data": {
      "text/plain": "      port  amount\n0       80    1598\n1      443     349\n3      447   12228\n5      449    1713\n15   49165     703\n34   49184     256\n37   49187    1889\n38   49188     129\n45   49195     925\n47   49197     534\n109  49518     268\n111  49520     159\n119  49528    9013\n134  49548     105\n148  49567     192",
      "text/html": "<div>\n<style scoped>\n    .dataframe tbody tr th:only-of-type {\n        vertical-align: middle;\n    }\n\n    .dataframe tbody tr th {\n        vertical-align: top;\n    }\n\n    .dataframe thead th {\n        text-align: right;\n    }\n</style>\n<table border=\"1\" class=\"dataframe\">\n  <thead>\n    <tr style=\"text-align: right;\">\n      <th></th>\n      <th>port</th>\n      <th>amount</th>\n    </tr>\n  </thead>\n  <tbody>\n    <tr>\n      <th>0</th>\n      <td>80</td>\n      <td>1598</td>\n    </tr>\n    <tr>\n      <th>1</th>\n      <td>443</td>\n      <td>349</td>\n    </tr>\n    <tr>\n      <th>3</th>\n      <td>447</td>\n      <td>12228</td>\n    </tr>\n    <tr>\n      <th>5</th>\n      <td>449</td>\n      <td>1713</td>\n    </tr>\n    <tr>\n      <th>15</th>\n      <td>49165</td>\n      <td>703</td>\n    </tr>\n    <tr>\n      <th>34</th>\n      <td>49184</td>\n      <td>256</td>\n    </tr>\n    <tr>\n      <th>37</th>\n      <td>49187</td>\n      <td>1889</td>\n    </tr>\n    <tr>\n      <th>38</th>\n      <td>49188</td>\n      <td>129</td>\n    </tr>\n    <tr>\n      <th>45</th>\n      <td>49195</td>\n      <td>925</td>\n    </tr>\n    <tr>\n      <th>47</th>\n      <td>49197</td>\n      <td>534</td>\n    </tr>\n    <tr>\n      <th>109</th>\n      <td>49518</td>\n      <td>268</td>\n    </tr>\n    <tr>\n      <th>111</th>\n      <td>49520</td>\n      <td>159</td>\n    </tr>\n    <tr>\n      <th>119</th>\n      <td>49528</td>\n      <td>9013</td>\n    </tr>\n    <tr>\n      <th>134</th>\n      <td>49548</td>\n      <td>105</td>\n    </tr>\n    <tr>\n      <th>148</th>\n      <td>49567</td>\n      <td>192</td>\n    </tr>\n  </tbody>\n</table>\n</div>"
     },
     "execution_count": 14,
     "metadata": {},
     "output_type": "execute_result"
    }
   ],
   "source": [
    "ports_traffic = ports_traffic[ports_traffic.amount>100]\n",
    "ports_traffic.sort_values('amount', ascending=False)\n",
    "ports_traffic"
   ],
   "metadata": {
    "collapsed": false,
    "pycharm": {
     "name": "#%%\n"
    }
   }
  },
  {
   "cell_type": "markdown",
   "source": [
    "#### Wyfiltrowanie portów z grupy najpopularniejszych"
   ],
   "metadata": {
    "collapsed": false,
    "pycharm": {
     "name": "#%% md\n"
    }
   }
  },
  {
   "cell_type": "code",
   "execution_count": 15,
   "outputs": [
    {
     "data": {
      "text/plain": "   port  amount\n0    80    1598\n1   443     349\n3   447   12228\n5   449    1713",
      "text/html": "<div>\n<style scoped>\n    .dataframe tbody tr th:only-of-type {\n        vertical-align: middle;\n    }\n\n    .dataframe tbody tr th {\n        vertical-align: top;\n    }\n\n    .dataframe thead th {\n        text-align: right;\n    }\n</style>\n<table border=\"1\" class=\"dataframe\">\n  <thead>\n    <tr style=\"text-align: right;\">\n      <th></th>\n      <th>port</th>\n      <th>amount</th>\n    </tr>\n  </thead>\n  <tbody>\n    <tr>\n      <th>0</th>\n      <td>80</td>\n      <td>1598</td>\n    </tr>\n    <tr>\n      <th>1</th>\n      <td>443</td>\n      <td>349</td>\n    </tr>\n    <tr>\n      <th>3</th>\n      <td>447</td>\n      <td>12228</td>\n    </tr>\n    <tr>\n      <th>5</th>\n      <td>449</td>\n      <td>1713</td>\n    </tr>\n  </tbody>\n</table>\n</div>"
     },
     "execution_count": 15,
     "metadata": {},
     "output_type": "execute_result"
    }
   ],
   "source": [
    "ports_traffic = ports_traffic[ports_traffic.port<1024]\n",
    "ports_traffic"
   ],
   "metadata": {
    "collapsed": false,
    "pycharm": {
     "name": "#%%\n"
    }
   }
  },
  {
   "cell_type": "markdown",
   "source": [
    "Wykres liczby pakietów od portu"
   ],
   "metadata": {
    "collapsed": false
   }
  },
  {
   "cell_type": "code",
   "execution_count": 16,
   "outputs": [
    {
     "data": {
      "text/plain": "<AxesSubplot:xlabel='port'>"
     },
     "execution_count": 16,
     "metadata": {},
     "output_type": "execute_result"
    },
    {
     "data": {
      "text/plain": "<Figure size 432x288 with 1 Axes>",
      "image/png": "[encoded data removed]"
     },
     "metadata": {
      "needs_background": "light"
     },
     "output_type": "display_data"
    }
   ],
   "source": [
    "ports_traffic.plot.bar(x='port')"
   ],
   "metadata": {
    "collapsed": false,
    "pycharm": {
     "name": "#%%\n"
    }
   }
  },
  {
   "cell_type": "markdown",
   "source": [
    "Połączenia na portach 80 i 443 są traktowane jako bezpieczne. Natomiast obawę może wzbudzać ilość połączeń na pozostałych portach"
   ],
   "metadata": {
    "collapsed": false,
    "pycharm": {
     "name": "#%% md\n"
    }
   }
  },
  {
   "cell_type": "code",
   "execution_count": 17,
   "outputs": [
    {
     "name": "stdout",
     "output_type": "stream",
     "text": [
      "alert\n"
     ]
    }
   ],
   "source": [
    "trusted_ports = [80, 443]\n",
    "untrusted_ports = ports_traffic[~ports_traffic.port.isin(trusted_ports)]\n",
    "if len(untrusted_ports) > 0:\n",
    "    print('alert')"
   ],
   "metadata": {
    "collapsed": false,
    "pycharm": {
     "name": "#%%\n"
    }
   }
  }
 ],
 "metadata": {
  "kernelspec": {
   "display_name": "Python 3",
   "language": "python",
   "name": "python3"
  },
  "language_info": {
   "codemirror_mode": {
    "name": "ipython",
    "version": 2
   },
   "file_extension": ".py",
   "mimetype": "text/x-python",
   "name": "python",
   "nbconvert_exporter": "python",
   "pygments_lexer": "ipython2",
   "version": "2.7.6"
  }
 },
 "nbformat": 4,
 "nbformat_minor": 0
}