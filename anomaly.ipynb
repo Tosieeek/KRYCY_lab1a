{
 "cells": [
  {
   "cell_type": "code",
   "execution_count": 7,
   "metadata": {
    "collapsed": true,
    "pycharm": {
     "name": "#%%\n"
    }
   },
   "outputs": [],
   "source": [
    "import pandas as pd"
   ]
  },
  {
   "cell_type": "code",
   "execution_count": 8,
   "outputs": [],
   "source": [
    "from scapy.all import *"
   ],
   "metadata": {
    "collapsed": false,
    "pycharm": {
     "name": "#%%\n"
    }
   }
  },
  {
   "cell_type": "markdown",
   "source": [
    "Wczytanie pliku pcap\n",
    "Przechodzimy po wszystkich pakietach"
   ],
   "metadata": {
    "collapsed": false,
    "pycharm": {
     "name": "#%% md\n"
    }
   }
  },
  {
   "cell_type": "code",
   "execution_count": null,
   "outputs": [],
   "source": [
    "from scapy.layers.inet import IP, TCP\n",
    "\n",
    "scapy_cap = rdpcap('test_dir/trick_bot.pcap')\n",
    "packet_tab = []\n",
    "event_449 = 0\n",
    "event_447 = 0\n",
    "for packet in scapy_cap:\n",
    "    if TCP in packet:\n",
    "        ip_src = \"\"\n",
    "        ip_dst = \"\"\n",
    "        if IP in packet:\n",
    "            ip_src=packet[IP].src\n",
    "            ip_dst=packet[IP].dst\n",
    "\n",
    "        tcp_time=packet[TCP].time\n",
    "        tcp_sport=packet[TCP].sport\n",
    "        tcp_dport=packet[TCP].dport\n",
    "        packet_tab.append([str(tcp_time),tcp_sport,tcp_dport, ip_src, ip_dst])\n",
    "        if tcp_sport == 449 or tcp_dport ==449:\n",
    "            event_449 += 1\n",
    "        if tcp_sport == 447 or tcp_dport ==447:\n",
    "            event_447 += 1\n",
    "\n",
    "if event_449 > 100 and event_447 > 50:\n",
    "    print(\"alert\")\n",
    "\n",
    "df = pd.DataFrame(packet_tab, columns=['time','src_port', 'dst_port', 'ip_src', 'ip_dst'])"
   ],
   "metadata": {
    "collapsed": false,
    "pycharm": {
     "name": "#%%\n",
     "is_executing": true
    }
   }
  },
  {
   "cell_type": "code",
   "execution_count": 44,
   "outputs": [
    {
     "data": {
      "text/plain": "     dst_port  amount\n0          80     484\n1         443     189\n2         445       2\n3         447    3475\n4         448      18\n..        ...     ...\n149     49568      10\n150     49569      12\n151     49570      10\n152     49571      10\n153     49572      10\n\n[154 rows x 2 columns]",
      "text/html": "<div>\n<style scoped>\n    .dataframe tbody tr th:only-of-type {\n        vertical-align: middle;\n    }\n\n    .dataframe tbody tr th {\n        vertical-align: top;\n    }\n\n    .dataframe thead th {\n        text-align: right;\n    }\n</style>\n<table border=\"1\" class=\"dataframe\">\n  <thead>\n    <tr style=\"text-align: right;\">\n      <th></th>\n      <th>dst_port</th>\n      <th>amount</th>\n    </tr>\n  </thead>\n  <tbody>\n    <tr>\n      <th>0</th>\n      <td>80</td>\n      <td>484</td>\n    </tr>\n    <tr>\n      <th>1</th>\n      <td>443</td>\n      <td>189</td>\n    </tr>\n    <tr>\n      <th>2</th>\n      <td>445</td>\n      <td>2</td>\n    </tr>\n    <tr>\n      <th>3</th>\n      <td>447</td>\n      <td>3475</td>\n    </tr>\n    <tr>\n      <th>4</th>\n      <td>448</td>\n      <td>18</td>\n    </tr>\n    <tr>\n      <th>...</th>\n      <td>...</td>\n      <td>...</td>\n    </tr>\n    <tr>\n      <th>149</th>\n      <td>49568</td>\n      <td>10</td>\n    </tr>\n    <tr>\n      <th>150</th>\n      <td>49569</td>\n      <td>12</td>\n    </tr>\n    <tr>\n      <th>151</th>\n      <td>49570</td>\n      <td>10</td>\n    </tr>\n    <tr>\n      <th>152</th>\n      <td>49571</td>\n      <td>10</td>\n    </tr>\n    <tr>\n      <th>153</th>\n      <td>49572</td>\n      <td>10</td>\n    </tr>\n  </tbody>\n</table>\n<p>154 rows × 2 columns</p>\n</div>"
     },
     "execution_count": 44,
     "metadata": {},
     "output_type": "execute_result"
    }
   ],
   "source": [
    "df.groupby([\"dst_port\"]).size().rename(\"amount\").reset_index()"
   ],
   "metadata": {
    "collapsed": false,
    "pycharm": {
     "name": "#%%\n"
    }
   }
  },
  {
   "cell_type": "code",
   "execution_count": 51,
   "outputs": [],
   "source": [
    "import matplotlib.pyplot as plt\n",
    "connections = df.groupby([\"dst_port\"]).size().rename(\"amount\").reset_index()"
   ],
   "metadata": {
    "collapsed": false,
    "pycharm": {
     "name": "#%%\n"
    }
   }
  },
  {
   "cell_type": "code",
   "execution_count": 56,
   "outputs": [],
   "source": [
    "connections = connections[connections.amount>100]"
   ],
   "metadata": {
    "collapsed": false,
    "pycharm": {
     "name": "#%%\n"
    }
   }
  },
  {
   "cell_type": "markdown",
   "source": [
    "Porty z największą liczbą połączeń:"
   ],
   "metadata": {
    "collapsed": false,
    "pycharm": {
     "name": "#%% md\n"
    }
   }
  },
  {
   "cell_type": "code",
   "execution_count": 60,
   "outputs": [
    {
     "data": {
      "text/plain": "     dst_port  amount\n119     49528    6557\n3         447    3475\n37      49187    1330\n5         449     743\n45      49195     650\n15      49165     500\n0          80     484\n47      49197     371\n1         443     189\n109     49518     187\n34      49184     159\n148     49567     134\n111     49520     107",
      "text/html": "<div>\n<style scoped>\n    .dataframe tbody tr th:only-of-type {\n        vertical-align: middle;\n    }\n\n    .dataframe tbody tr th {\n        vertical-align: top;\n    }\n\n    .dataframe thead th {\n        text-align: right;\n    }\n</style>\n<table border=\"1\" class=\"dataframe\">\n  <thead>\n    <tr style=\"text-align: right;\">\n      <th></th>\n      <th>dst_port</th>\n      <th>amount</th>\n    </tr>\n  </thead>\n  <tbody>\n    <tr>\n      <th>119</th>\n      <td>49528</td>\n      <td>6557</td>\n    </tr>\n    <tr>\n      <th>3</th>\n      <td>447</td>\n      <td>3475</td>\n    </tr>\n    <tr>\n      <th>37</th>\n      <td>49187</td>\n      <td>1330</td>\n    </tr>\n    <tr>\n      <th>5</th>\n      <td>449</td>\n      <td>743</td>\n    </tr>\n    <tr>\n      <th>45</th>\n      <td>49195</td>\n      <td>650</td>\n    </tr>\n    <tr>\n      <th>15</th>\n      <td>49165</td>\n      <td>500</td>\n    </tr>\n    <tr>\n      <th>0</th>\n      <td>80</td>\n      <td>484</td>\n    </tr>\n    <tr>\n      <th>47</th>\n      <td>49197</td>\n      <td>371</td>\n    </tr>\n    <tr>\n      <th>1</th>\n      <td>443</td>\n      <td>189</td>\n    </tr>\n    <tr>\n      <th>109</th>\n      <td>49518</td>\n      <td>187</td>\n    </tr>\n    <tr>\n      <th>34</th>\n      <td>49184</td>\n      <td>159</td>\n    </tr>\n    <tr>\n      <th>148</th>\n      <td>49567</td>\n      <td>134</td>\n    </tr>\n    <tr>\n      <th>111</th>\n      <td>49520</td>\n      <td>107</td>\n    </tr>\n  </tbody>\n</table>\n</div>"
     },
     "execution_count": 60,
     "metadata": {},
     "output_type": "execute_result"
    }
   ],
   "source": [
    "connections.sort_values('amount', ascending=False)"
   ],
   "metadata": {
    "collapsed": false,
    "pycharm": {
     "name": "#%%\n"
    }
   }
  },
  {
   "cell_type": "code",
   "execution_count": 78,
   "outputs": [
    {
     "data": {
      "text/plain": "   dst_port  amount\n0        80     484\n1       443     189\n3       447    3475\n5       449     743",
      "text/html": "<div>\n<style scoped>\n    .dataframe tbody tr th:only-of-type {\n        vertical-align: middle;\n    }\n\n    .dataframe tbody tr th {\n        vertical-align: top;\n    }\n\n    .dataframe thead th {\n        text-align: right;\n    }\n</style>\n<table border=\"1\" class=\"dataframe\">\n  <thead>\n    <tr style=\"text-align: right;\">\n      <th></th>\n      <th>dst_port</th>\n      <th>amount</th>\n    </tr>\n  </thead>\n  <tbody>\n    <tr>\n      <th>0</th>\n      <td>80</td>\n      <td>484</td>\n    </tr>\n    <tr>\n      <th>1</th>\n      <td>443</td>\n      <td>189</td>\n    </tr>\n    <tr>\n      <th>3</th>\n      <td>447</td>\n      <td>3475</td>\n    </tr>\n    <tr>\n      <th>5</th>\n      <td>449</td>\n      <td>743</td>\n    </tr>\n  </tbody>\n</table>\n</div>"
     },
     "execution_count": 78,
     "metadata": {},
     "output_type": "execute_result"
    }
   ],
   "source": [
    "connections = connections[connections.dst_port<1024]\n",
    "connections"
   ],
   "metadata": {
    "collapsed": false,
    "pycharm": {
     "name": "#%%\n"
    }
   }
  },
  {
   "cell_type": "markdown",
   "source": [
    "Połączenia na portach 80 i 443 są traktowane jako bezpieczne. Nastomiast obawę może wzbudzć ilośc połączeń na portach 447, 449."
   ],
   "metadata": {
    "collapsed": false,
    "pycharm": {
     "name": "#%% md\n"
    }
   }
  },
  {
   "cell_type": "code",
   "execution_count": 68,
   "outputs": [],
   "source": [
    "trusted_ports = [80, 443]"
   ],
   "metadata": {
    "collapsed": false,
    "pycharm": {
     "name": "#%%\n"
    }
   }
  },
  {
   "cell_type": "code",
   "execution_count": 79,
   "outputs": [
    {
     "data": {
      "text/plain": "   dst_port  amount\n3       447    3475\n5       449     743",
      "text/html": "<div>\n<style scoped>\n    .dataframe tbody tr th:only-of-type {\n        vertical-align: middle;\n    }\n\n    .dataframe tbody tr th {\n        vertical-align: top;\n    }\n\n    .dataframe thead th {\n        text-align: right;\n    }\n</style>\n<table border=\"1\" class=\"dataframe\">\n  <thead>\n    <tr style=\"text-align: right;\">\n      <th></th>\n      <th>dst_port</th>\n      <th>amount</th>\n    </tr>\n  </thead>\n  <tbody>\n    <tr>\n      <th>3</th>\n      <td>447</td>\n      <td>3475</td>\n    </tr>\n    <tr>\n      <th>5</th>\n      <td>449</td>\n      <td>743</td>\n    </tr>\n  </tbody>\n</table>\n</div>"
     },
     "execution_count": 79,
     "metadata": {},
     "output_type": "execute_result"
    }
   ],
   "source": [
    "connections[~connections.dst_port.isin(trusted_ports)]"
   ],
   "metadata": {
    "collapsed": false,
    "pycharm": {
     "name": "#%%\n"
    }
   }
  }
 ],
 "metadata": {
  "kernelspec": {
   "display_name": "Python 3",
   "language": "python",
   "name": "python3"
  },
  "language_info": {
   "codemirror_mode": {
    "name": "ipython",
    "version": 2
   },
   "file_extension": ".py",
   "mimetype": "text/x-python",
   "name": "python",
   "nbconvert_exporter": "python",
   "pygments_lexer": "ipython2",
   "version": "2.7.6"
  }
 },
 "nbformat": 4,
 "nbformat_minor": 0
}